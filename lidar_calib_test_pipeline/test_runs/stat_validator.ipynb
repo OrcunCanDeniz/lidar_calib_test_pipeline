{
 "cells": [
  {
   "cell_type": "markdown",
   "id": "bearing-separation",
   "metadata": {},
   "source": [
    "# Recalculation of the stats computed by lidar calibration test pipeline using  "
   ]
  },
  {
   "cell_type": "code",
   "execution_count": 1,
   "id": "conceptual-thunder",
   "metadata": {},
   "outputs": [],
   "source": [
    "import pandas as pd\n",
    "import numpy as np\n",
    "import scipy.stats\n",
    "import pdb"
   ]
  },
  {
   "cell_type": "code",
   "execution_count": 2,
   "id": "modern-marks",
   "metadata": {},
   "outputs": [],
   "source": [
    "t_cols = [\"tx_err\", \"ty_err\", \"tz_err\"]\n",
    "r_cols = [\"R_err\", \"P_err\", \"Y_err\"]"
   ]
  },
  {
   "cell_type": "code",
   "execution_count": 3,
   "id": "moral-phoenix",
   "metadata": {},
   "outputs": [],
   "source": [
    "df = pd.read_csv(\"TEST_2021_12_09__17_49.csv\")"
   ]
  },
  {
   "cell_type": "code",
   "execution_count": 4,
   "id": "roman-trinity",
   "metadata": {},
   "outputs": [
    {
     "name": "stdout",
     "output_type": "stream",
     "text": [
      "['ford_v2']\n",
      "[['tx_err', 'ty_err', 'tz_err'], ['R_err', 'P_err', 'Y_err']]\n",
      "{'ford_v2': None}\n"
     ]
    }
   ],
   "source": [
    "agents = list(df[\"agent_id\"].unique())\n",
    "tf_types = [t_cols, r_cols]\n",
    "data_t = dict.fromkeys(agents)"
   ]
  },
  {
   "cell_type": "code",
   "execution_count": 5,
   "id": "simple-flush",
   "metadata": {
    "scrolled": false
   },
   "outputs": [
    {
     "data": {
      "text/html": [
       "<div>\n",
       "<style scoped>\n",
       "    .dataframe tbody tr th:only-of-type {\n",
       "        vertical-align: middle;\n",
       "    }\n",
       "\n",
       "    .dataframe tbody tr th {\n",
       "        vertical-align: top;\n",
       "    }\n",
       "\n",
       "    .dataframe thead th {\n",
       "        text-align: right;\n",
       "    }\n",
       "</style>\n",
       "<table border=\"1\" class=\"dataframe\">\n",
       "  <thead>\n",
       "    <tr style=\"text-align: right;\">\n",
       "      <th></th>\n",
       "      <th>agent_id</th>\n",
       "      <th>scene_id</th>\n",
       "      <th>tx_err</th>\n",
       "      <th>ty_err</th>\n",
       "      <th>tz_err</th>\n",
       "      <th>R_err</th>\n",
       "      <th>P_err</th>\n",
       "      <th>Y_err</th>\n",
       "    </tr>\n",
       "  </thead>\n",
       "  <tbody>\n",
       "    <tr>\n",
       "      <th>0</th>\n",
       "      <td>ford_v2</td>\n",
       "      <td>scene_0</td>\n",
       "      <td>2.558480</td>\n",
       "      <td>1.297160</td>\n",
       "      <td>0.204392</td>\n",
       "      <td>0.386356</td>\n",
       "      <td>1.108610</td>\n",
       "      <td>0.220652</td>\n",
       "    </tr>\n",
       "    <tr>\n",
       "      <th>1</th>\n",
       "      <td>ford_v2</td>\n",
       "      <td>scene_0</td>\n",
       "      <td>2.473410</td>\n",
       "      <td>0.910931</td>\n",
       "      <td>0.534654</td>\n",
       "      <td>0.099612</td>\n",
       "      <td>0.028364</td>\n",
       "      <td>0.011420</td>\n",
       "    </tr>\n",
       "    <tr>\n",
       "      <th>2</th>\n",
       "      <td>ford_v2</td>\n",
       "      <td>scene_0</td>\n",
       "      <td>2.624180</td>\n",
       "      <td>1.464890</td>\n",
       "      <td>2.133560</td>\n",
       "      <td>2.008190</td>\n",
       "      <td>0.526180</td>\n",
       "      <td>0.777485</td>\n",
       "    </tr>\n",
       "    <tr>\n",
       "      <th>3</th>\n",
       "      <td>ford_v2</td>\n",
       "      <td>scene_0</td>\n",
       "      <td>0.962037</td>\n",
       "      <td>0.305337</td>\n",
       "      <td>0.020048</td>\n",
       "      <td>0.003619</td>\n",
       "      <td>0.758170</td>\n",
       "      <td>0.009364</td>\n",
       "    </tr>\n",
       "    <tr>\n",
       "      <th>4</th>\n",
       "      <td>ford_v2</td>\n",
       "      <td>scene_0</td>\n",
       "      <td>0.307331</td>\n",
       "      <td>1.140260</td>\n",
       "      <td>0.230940</td>\n",
       "      <td>0.240648</td>\n",
       "      <td>2.068860</td>\n",
       "      <td>0.268092</td>\n",
       "    </tr>\n",
       "    <tr>\n",
       "      <th>...</th>\n",
       "      <td>...</td>\n",
       "      <td>...</td>\n",
       "      <td>...</td>\n",
       "      <td>...</td>\n",
       "      <td>...</td>\n",
       "      <td>...</td>\n",
       "      <td>...</td>\n",
       "      <td>...</td>\n",
       "    </tr>\n",
       "    <tr>\n",
       "      <th>96</th>\n",
       "      <td>ford_v2</td>\n",
       "      <td>scene_9</td>\n",
       "      <td>2.804800</td>\n",
       "      <td>0.067427</td>\n",
       "      <td>0.020241</td>\n",
       "      <td>0.441185</td>\n",
       "      <td>0.010349</td>\n",
       "      <td>0.455820</td>\n",
       "    </tr>\n",
       "    <tr>\n",
       "      <th>97</th>\n",
       "      <td>ford_v2</td>\n",
       "      <td>scene_9</td>\n",
       "      <td>2.131390</td>\n",
       "      <td>2.010430</td>\n",
       "      <td>0.076416</td>\n",
       "      <td>1.560020</td>\n",
       "      <td>0.415404</td>\n",
       "      <td>0.270102</td>\n",
       "    </tr>\n",
       "    <tr>\n",
       "      <th>98</th>\n",
       "      <td>ford_v2</td>\n",
       "      <td>scene_9</td>\n",
       "      <td>1.945450</td>\n",
       "      <td>0.307045</td>\n",
       "      <td>1.281190</td>\n",
       "      <td>0.252067</td>\n",
       "      <td>0.885585</td>\n",
       "      <td>1.150320</td>\n",
       "    </tr>\n",
       "    <tr>\n",
       "      <th>99</th>\n",
       "      <td>ford_v2</td>\n",
       "      <td>scene_9</td>\n",
       "      <td>0.555580</td>\n",
       "      <td>0.909374</td>\n",
       "      <td>2.917680</td>\n",
       "      <td>1.943000</td>\n",
       "      <td>0.567509</td>\n",
       "      <td>0.474865</td>\n",
       "    </tr>\n",
       "    <tr>\n",
       "      <th>100</th>\n",
       "      <td>ford_v2</td>\n",
       "      <td>scene_9</td>\n",
       "      <td>0.963048</td>\n",
       "      <td>0.399404</td>\n",
       "      <td>0.504110</td>\n",
       "      <td>1.859010</td>\n",
       "      <td>0.014351</td>\n",
       "      <td>0.878573</td>\n",
       "    </tr>\n",
       "  </tbody>\n",
       "</table>\n",
       "<p>101 rows × 8 columns</p>\n",
       "</div>"
      ],
      "text/plain": [
       "    agent_id scene_id    tx_err    ty_err    tz_err     R_err     P_err  \\\n",
       "0    ford_v2  scene_0  2.558480  1.297160  0.204392  0.386356  1.108610   \n",
       "1    ford_v2  scene_0  2.473410  0.910931  0.534654  0.099612  0.028364   \n",
       "2    ford_v2  scene_0  2.624180  1.464890  2.133560  2.008190  0.526180   \n",
       "3    ford_v2  scene_0  0.962037  0.305337  0.020048  0.003619  0.758170   \n",
       "4    ford_v2  scene_0  0.307331  1.140260  0.230940  0.240648  2.068860   \n",
       "..       ...      ...       ...       ...       ...       ...       ...   \n",
       "96   ford_v2  scene_9  2.804800  0.067427  0.020241  0.441185  0.010349   \n",
       "97   ford_v2  scene_9  2.131390  2.010430  0.076416  1.560020  0.415404   \n",
       "98   ford_v2  scene_9  1.945450  0.307045  1.281190  0.252067  0.885585   \n",
       "99   ford_v2  scene_9  0.555580  0.909374  2.917680  1.943000  0.567509   \n",
       "100  ford_v2  scene_9  0.963048  0.399404  0.504110  1.859010  0.014351   \n",
       "\n",
       "        Y_err  \n",
       "0    0.220652  \n",
       "1    0.011420  \n",
       "2    0.777485  \n",
       "3    0.009364  \n",
       "4    0.268092  \n",
       "..        ...  \n",
       "96   0.455820  \n",
       "97   0.270102  \n",
       "98   1.150320  \n",
       "99   0.474865  \n",
       "100  0.878573  \n",
       "\n",
       "[101 rows x 8 columns]"
      ]
     },
     "execution_count": 5,
     "metadata": {},
     "output_type": "execute_result"
    }
   ],
   "source": [
    "df"
   ]
  },
  {
   "cell_type": "code",
   "execution_count": 7,
   "id": "romantic-ambassador",
   "metadata": {},
   "outputs": [],
   "source": [
    "for agent in agents:\n",
    "    agent_dict = dict.fromkeys(t_cols+r_cols, 1)\n",
    "    for tf_type in tf_types:\n",
    "        for t in tf_type:\n",
    "            agent_dict[t] = np.array(df[df[\"agent_id\"] == agent][t].to_list())\n",
    "            data_t[agent] = agent_dict"
   ]
  },
  {
   "cell_type": "code",
   "execution_count": 8,
   "id": "imperial-playlist",
   "metadata": {
    "scrolled": false
   },
   "outputs": [
    {
     "name": "stdout",
     "output_type": "stream",
     "text": [
      "For: ford_v2\n",
      "XYZ error(mean): 1.5616446970297027 0.6457194019108912 0.7538232228712872\n",
      "RPY error(mean): 0.8572302716912347 0.6203961619379859 0.5130132893898376\n",
      "XYZ error (stdev): 0.8870112482815534 0.5097992162164183 0.7780517799845799\n",
      "RPY error (stdev): 0.7820351418566891 0.6768413579575299 0.3981393524244664\n",
      "--------------------\n"
     ]
    }
   ],
   "source": [
    "for agent in agents:\n",
    "    print(f\"For: {agent}\")\n",
    "    \n",
    "    print(f\"XYZ error(mean): {np.mean(data_t[agent]['tx_err'])} {np.mean(data_t[agent]['ty_err'])} {np.mean(data_t[agent]['tz_err'])}\") \n",
    "    print(f\"RPY error(mean): {scipy.stats.circmean(data_t[agent]['R_err'])} {scipy.stats.circmean(data_t[agent]['P_err'])} {scipy.stats.circmean(data_t[agent]['Y_err'])}\")\n",
    "    print(f\"XYZ error (stdev): {np.std(data_t[agent]['tx_err'])} {np.std(data_t[agent]['ty_err'])} {np.std(data_t[agent]['tz_err'])}\")\n",
    "    print(f\"RPY error (stdev): {scipy.stats.circstd(data_t[agent]['R_err'])} {scipy.stats.circstd(data_t[agent]['P_err'])} {scipy.stats.circstd(data_t[agent]['Y_err'])}\")\n",
    "\n",
    "    print(\"-\"*20)\n"
   ]
  }
 ],
 "metadata": {
  "kernelspec": {
   "display_name": "Python 3",
   "language": "python",
   "name": "python3"
  },
  "language_info": {
   "codemirror_mode": {
    "name": "ipython",
    "version": 3
   },
   "file_extension": ".py",
   "mimetype": "text/x-python",
   "name": "python",
   "nbconvert_exporter": "python",
   "pygments_lexer": "ipython3",
   "version": "3.6.9"
  }
 },
 "nbformat": 4,
 "nbformat_minor": 5
}
