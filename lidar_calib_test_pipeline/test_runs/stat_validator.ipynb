{
 "cells": [
  {
   "cell_type": "markdown",
   "id": "bearing-separation",
   "metadata": {},
   "source": [
    "# Recalculation of the stats computed by lidar calibration test pipeline using  "
   ]
  },
  {
   "cell_type": "code",
   "execution_count": 1,
   "id": "conceptual-thunder",
   "metadata": {},
   "outputs": [],
   "source": [
    "import pandas as pd\n",
    "import numpy as np\n",
    "import scipy.stats\n",
    "import pdb"
   ]
  },
  {
   "cell_type": "code",
   "execution_count": 2,
   "id": "modern-marks",
   "metadata": {},
   "outputs": [],
   "source": [
    "t_cols = [\"tx_err\", \"ty_err\", \"tz_err\"]\n",
    "r_cols = [\"R_err\", \"P_err\", \"Y_err\"]"
   ]
  },
  {
   "cell_type": "code",
   "execution_count": 3,
   "id": "moral-phoenix",
   "metadata": {},
   "outputs": [],
   "source": [
    "df = pd.read_csv(\"TEST_2021_12_08__15_56.csv\")"
   ]
  },
  {
   "cell_type": "code",
   "execution_count": 4,
   "id": "roman-trinity",
   "metadata": {},
   "outputs": [
    {
     "name": "stdout",
     "output_type": "stream",
     "text": [
      "['agent_0', 'agent_1']\n",
      "[['tx_err', 'ty_err', 'tz_err'], ['R_err', 'P_err', 'Y_err']]\n",
      "{'agent_0': None, 'agent_1': None}\n"
     ]
    }
   ],
   "source": [
    "agents = list(df[\"agent_id\"].unique())\n",
    "tf_types = [t_cols, r_cols]\n",
    "data_t = dict.fromkeys(agents) \n",
    "print(agents)\n",
    "print(tf_types)\n",
    "print(data_t)"
   ]
  },
  {
   "cell_type": "code",
   "execution_count": 6,
   "id": "simple-flush",
   "metadata": {
    "scrolled": false
   },
   "outputs": [
    {
     "data": {
      "text/html": [
       "<div>\n",
       "<style scoped>\n",
       "    .dataframe tbody tr th:only-of-type {\n",
       "        vertical-align: middle;\n",
       "    }\n",
       "\n",
       "    .dataframe tbody tr th {\n",
       "        vertical-align: top;\n",
       "    }\n",
       "\n",
       "    .dataframe thead th {\n",
       "        text-align: right;\n",
       "    }\n",
       "</style>\n",
       "<table border=\"1\" class=\"dataframe\">\n",
       "  <thead>\n",
       "    <tr style=\"text-align: right;\">\n",
       "      <th></th>\n",
       "      <th>agent_id</th>\n",
       "      <th>scene_id</th>\n",
       "      <th>tx_err</th>\n",
       "      <th>ty_err</th>\n",
       "      <th>tz_err</th>\n",
       "      <th>R_err</th>\n",
       "      <th>P_err</th>\n",
       "      <th>Y_err</th>\n",
       "    </tr>\n",
       "  </thead>\n",
       "  <tbody>\n",
       "    <tr>\n",
       "      <th>0</th>\n",
       "      <td>agent_0</td>\n",
       "      <td>scene_0</td>\n",
       "      <td>0.5</td>\n",
       "      <td>0.5</td>\n",
       "      <td>0.5</td>\n",
       "      <td>0.00000</td>\n",
       "      <td>0</td>\n",
       "      <td>0.0000</td>\n",
       "    </tr>\n",
       "    <tr>\n",
       "      <th>1</th>\n",
       "      <td>agent_0</td>\n",
       "      <td>scene_1</td>\n",
       "      <td>1.0</td>\n",
       "      <td>1.0</td>\n",
       "      <td>1.0</td>\n",
       "      <td>3.14159</td>\n",
       "      <td>0</td>\n",
       "      <td>1.5708</td>\n",
       "    </tr>\n",
       "    <tr>\n",
       "      <th>2</th>\n",
       "      <td>agent_0</td>\n",
       "      <td>scene_2</td>\n",
       "      <td>1.0</td>\n",
       "      <td>1.0</td>\n",
       "      <td>1.0</td>\n",
       "      <td>3.14159</td>\n",
       "      <td>0</td>\n",
       "      <td>1.5708</td>\n",
       "    </tr>\n",
       "    <tr>\n",
       "      <th>3</th>\n",
       "      <td>agent_1</td>\n",
       "      <td>scene_0</td>\n",
       "      <td>1.0</td>\n",
       "      <td>1.0</td>\n",
       "      <td>1.0</td>\n",
       "      <td>3.14159</td>\n",
       "      <td>0</td>\n",
       "      <td>1.5708</td>\n",
       "    </tr>\n",
       "    <tr>\n",
       "      <th>4</th>\n",
       "      <td>agent_1</td>\n",
       "      <td>scene_1</td>\n",
       "      <td>0.5</td>\n",
       "      <td>0.5</td>\n",
       "      <td>0.5</td>\n",
       "      <td>0.00000</td>\n",
       "      <td>0</td>\n",
       "      <td>0.0000</td>\n",
       "    </tr>\n",
       "    <tr>\n",
       "      <th>5</th>\n",
       "      <td>agent_1</td>\n",
       "      <td>scene_2</td>\n",
       "      <td>0.5</td>\n",
       "      <td>0.5</td>\n",
       "      <td>0.5</td>\n",
       "      <td>0.00000</td>\n",
       "      <td>0</td>\n",
       "      <td>0.0000</td>\n",
       "    </tr>\n",
       "  </tbody>\n",
       "</table>\n",
       "</div>"
      ],
      "text/plain": [
       "  agent_id scene_id  tx_err  ty_err  tz_err    R_err  P_err   Y_err\n",
       "0  agent_0  scene_0     0.5     0.5     0.5  0.00000      0  0.0000\n",
       "1  agent_0  scene_1     1.0     1.0     1.0  3.14159      0  1.5708\n",
       "2  agent_0  scene_2     1.0     1.0     1.0  3.14159      0  1.5708\n",
       "3  agent_1  scene_0     1.0     1.0     1.0  3.14159      0  1.5708\n",
       "4  agent_1  scene_1     0.5     0.5     0.5  0.00000      0  0.0000\n",
       "5  agent_1  scene_2     0.5     0.5     0.5  0.00000      0  0.0000"
      ]
     },
     "execution_count": 6,
     "metadata": {},
     "output_type": "execute_result"
    }
   ],
   "source": [
    "df"
   ]
  },
  {
   "cell_type": "code",
   "execution_count": 7,
   "id": "romantic-ambassador",
   "metadata": {},
   "outputs": [],
   "source": [
    "for agent in agents:\n",
    "    #agent_0\n",
    "    agent_dict = dict.fromkeys(t_cols+r_cols, 1)\n",
    "    for tf_type in tf_types:\n",
    "        for t in tf_type:\n",
    "            agent_dict[t] = np.array(df[df[\"agent_id\"] == agent][t].to_list())\n",
    "            data_t[agent] = agent_dict"
   ]
  },
  {
   "cell_type": "code",
   "execution_count": 8,
   "id": "introductory-young",
   "metadata": {},
   "outputs": [
    {
     "data": {
      "text/plain": [
       "{'agent_0': {'tx_err': array([0.5, 1. , 1. ]),\n",
       "  'ty_err': array([0.5, 1. , 1. ]),\n",
       "  'tz_err': array([0.5, 1. , 1. ]),\n",
       "  'R_err': array([0.     , 3.14159, 3.14159]),\n",
       "  'P_err': array([0, 0, 0]),\n",
       "  'Y_err': array([0.    , 1.5708, 1.5708])},\n",
       " 'agent_1': {'tx_err': array([1. , 0.5, 0.5]),\n",
       "  'ty_err': array([1. , 0.5, 0.5]),\n",
       "  'tz_err': array([1. , 0.5, 0.5]),\n",
       "  'R_err': array([3.14159, 0.     , 0.     ]),\n",
       "  'P_err': array([0, 0, 0]),\n",
       "  'Y_err': array([1.5708, 0.    , 0.    ])}}"
      ]
     },
     "execution_count": 8,
     "metadata": {},
     "output_type": "execute_result"
    }
   ],
   "source": [
    "data_t"
   ]
  },
  {
   "cell_type": "code",
   "execution_count": 11,
   "id": "imperial-playlist",
   "metadata": {
    "scrolled": false
   },
   "outputs": [
    {
     "name": "stdout",
     "output_type": "stream",
     "text": [
      "agent_0 tx_err mean: 0.8333333333333334 std: 0.23570226039551584\n",
      "agent_0 ty_err mean: 0.8333333333333334 std: 0.23570226039551584\n",
      "agent_0 tz_err mean: 0.8333333333333334 std: 0.23570226039551584\n",
      "agent_0 R_err mean: 3.1415873464102075 std: 1.4823038073627606\n",
      "agent_0 P_err mean: 0.0 std: -0.0\n",
      "agent_0 Y_err mean: 1.1071516563597923 std: 0.7666743790361846\n",
      "--------------------\n",
      "agent_1 tx_err mean: 0.6666666666666666 std: 0.23570226039551584\n",
      "agent_1 ty_err mean: 0.6666666666666666 std: 0.23570226039551584\n",
      "agent_1 tz_err mean: 0.6666666666666666 std: 0.23570226039551584\n",
      "agent_1 R_err mean: 2.6535897928930697e-06 std: 1.4823038073627606\n",
      "agent_1 P_err mean: 0.0 std: -0.0\n",
      "agent_1 Y_err mean: 0.4636483436402076 std: 0.7666743790361846\n",
      "--------------------\n"
     ]
    }
   ],
   "source": [
    "for agent in agents:\n",
    "    for t_col in t_cols:\n",
    "        print(f\"{agent} {t_col} mean: {np.mean(data_t[agent][t_col])} std: {np.std(data_t[agent][t_col])}\")\n",
    "    for r_col in r_cols:\n",
    "        print(f\"{agent} {r_col} mean: {scipy.stats.circmean(data_t[agent][r_col])} std: {scipy.stats.circstd(data_t[agent][r_col])}\")\n",
    "    print(\"-\"*20)\n"
   ]
  },
  {
   "cell_type": "code",
   "execution_count": null,
   "id": "first-validity",
   "metadata": {},
   "outputs": [],
   "source": []
  }
 ],
 "metadata": {
  "kernelspec": {
   "display_name": "Python 3",
   "language": "python",
   "name": "python3"
  },
  "language_info": {
   "codemirror_mode": {
    "name": "ipython",
    "version": 3
   },
   "file_extension": ".py",
   "mimetype": "text/x-python",
   "name": "python",
   "nbconvert_exporter": "python",
   "pygments_lexer": "ipython3",
   "version": "3.6.9"
  }
 },
 "nbformat": 4,
 "nbformat_minor": 5
}
